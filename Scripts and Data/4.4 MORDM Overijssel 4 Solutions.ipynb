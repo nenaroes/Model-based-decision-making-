{
 "cells": [
  {
   "cell_type": "code",
   "execution_count": 2,
   "metadata": {
    "collapsed": true
   },
   "outputs": [],
   "source": [
    "# Importing the standard Python packages\n",
    "import numpy as np\n",
    "import scipy as sp\n",
    "import pandas as pd\n",
    "import matplotlib.pyplot as plt\n",
    "import seaborn as sns"
   ]
  },
  {
   "cell_type": "markdown",
   "metadata": {},
   "source": [
    "# Actor Specific Problem Formulations"
   ]
  },
  {
   "cell_type": "code",
   "execution_count": 3,
   "metadata": {
    "scrolled": true
   },
   "outputs": [],
   "source": [
    "# Loading in the necessary modules for EMA workbench and functions\n",
    "from __future__ import (unicode_literals, print_function, absolute_import,\n",
    "                        division)\n",
    "\n",
    "from ema_workbench import (Model, CategoricalParameter,\n",
    "                           ScalarOutcome, IntegerParameter, RealParameter)\n",
    "from dike_model_function import DikeNetwork  # @UnresolvedImport\n",
    "\n",
    "from problem_formulation import sum_over"
   ]
  },
  {
   "cell_type": "code",
   "execution_count": 24,
   "metadata": {},
   "outputs": [
    {
     "name": "stderr",
     "output_type": "stream",
     "text": [
      "[MainProcess/INFO] model initialized\n"
     ]
    }
   ],
   "source": [
    "# Loading in the necessary modules for EMA workbench and functions\n",
    "from ema_workbench import (Model, MultiprocessingEvaluator, Policy, Scenario)\n",
    "\n",
    "from ema_workbench.em_framework.evaluators import perform_experiments\n",
    "from ema_workbench.em_framework.samplers import sample_uncertainties\n",
    "from ema_workbench.util import ema_logging\n",
    "import time\n",
    "from problem_formulation import get_model_for_problem_formulation\n",
    "\n",
    "# Loading in all the 17 objectives via predefined problem formulation 3\n",
    "if __name__ == '__main__':\n",
    "    ema_logging.log_to_stderr(ema_logging.INFO)\n",
    "\n",
    "    dike_model = get_model_for_problem_formulation(3)"
   ]
  },
  {
   "cell_type": "code",
   "execution_count": 5,
   "metadata": {
    "scrolled": true
   },
   "outputs": [
    {
     "name": "stdout",
     "output_type": "stream",
     "text": [
      "RealParameter('A.1_Bmax', 30, 350)\n",
      "RealParameter('A.1_pfail', 0, 1)\n",
      "CategoricalParameter('A.1_Brate', [0, 1, 2])\n",
      "RealParameter('A.2_Bmax', 30, 350)\n",
      "RealParameter('A.2_pfail', 0, 1)\n",
      "CategoricalParameter('A.2_Brate', [0, 1, 2])\n",
      "RealParameter('A.3_Bmax', 30, 350)\n",
      "RealParameter('A.3_pfail', 0, 1)\n",
      "CategoricalParameter('A.3_Brate', [0, 1, 2])\n",
      "RealParameter('A.4_Bmax', 30, 350)\n",
      "RealParameter('A.4_pfail', 0, 1)\n",
      "CategoricalParameter('A.4_Brate', [0, 1, 2])\n",
      "RealParameter('A.5_Bmax', 30, 350)\n",
      "RealParameter('A.5_pfail', 0, 1)\n",
      "CategoricalParameter('A.5_Brate', [0, 1, 2])\n",
      "CategoricalParameter('discount rate', [0, 1, 2, 3])\n",
      "IntegerParameter('A.0_ID flood wave shape', 0, 132)\n"
     ]
    }
   ],
   "source": [
    "# Replicate the uncertainties\n",
    "for unc in dike_model.uncertainties:\n",
    "    print(repr(unc))\n",
    "    \n",
    "uncertainties = dike_model.uncertainties\n",
    "\n",
    "import copy\n",
    "uncertainties = copy.deepcopy(dike_model.uncertainties)"
   ]
  },
  {
   "cell_type": "code",
   "execution_count": 6,
   "metadata": {},
   "outputs": [
    {
     "name": "stdout",
     "output_type": "stream",
     "text": [
      "IntegerParameter('A.1_DikeIncrease', 0, 10)\n",
      "IntegerParameter('A.2_DikeIncrease', 0, 10)\n",
      "IntegerParameter('A.3_DikeIncrease', 0, 10)\n",
      "IntegerParameter('A.4_DikeIncrease', 0, 10)\n",
      "IntegerParameter('A.5_DikeIncrease', 0, 10)\n",
      "IntegerParameter('0_RfR', 0, 1)\n",
      "IntegerParameter('1_RfR', 0, 1)\n",
      "IntegerParameter('2_RfR', 0, 1)\n",
      "IntegerParameter('3_RfR', 0, 1)\n",
      "IntegerParameter('4_RfR', 0, 1)\n",
      "IntegerParameter('EWS_DaysToThreat', 0, 4)\n"
     ]
    }
   ],
   "source": [
    "# Replicate the levers\n",
    "for policy in dike_model.levers:\n",
    "    print(repr(policy))\n",
    "    \n",
    "levers = dike_model.levers \n",
    "\n",
    "import copy\n",
    "levers = copy.deepcopy(dike_model.levers)\n"
   ]
  },
  {
   "cell_type": "code",
   "execution_count": 7,
   "metadata": {
    "scrolled": true
   },
   "outputs": [
    {
     "name": "stdout",
     "output_type": "stream",
     "text": [
      "ScalarOutcome('A.1_Expected Annual Damage')\n",
      "ScalarOutcome('A.1_Dike Investment Costs')\n",
      "ScalarOutcome('A.1_Expected Number of Deaths')\n",
      "ScalarOutcome('A.2_Expected Annual Damage')\n",
      "ScalarOutcome('A.2_Dike Investment Costs')\n",
      "ScalarOutcome('A.2_Expected Number of Deaths')\n",
      "ScalarOutcome('A.3_Expected Annual Damage')\n",
      "ScalarOutcome('A.3_Dike Investment Costs')\n",
      "ScalarOutcome('A.3_Expected Number of Deaths')\n",
      "ScalarOutcome('A.4_Expected Annual Damage')\n",
      "ScalarOutcome('A.4_Dike Investment Costs')\n",
      "ScalarOutcome('A.4_Expected Number of Deaths')\n",
      "ScalarOutcome('A.5_Expected Annual Damage')\n",
      "ScalarOutcome('A.5_Dike Investment Costs')\n",
      "ScalarOutcome('A.5_Expected Number of Deaths')\n",
      "ScalarOutcome('RfR Total Costs')\n",
      "ScalarOutcome('Expected Evacuation Costs')\n"
     ]
    }
   ],
   "source": [
    "# Replicate the objectives\n",
    "for outcome in dike_model.outcomes:\n",
    "    print(repr(outcome))"
   ]
  },
  {
   "cell_type": "code",
   "execution_count": 8,
   "metadata": {
    "collapsed": true
   },
   "outputs": [],
   "source": [
    "# Import ScalarOutcome from ema_workbench to define the actor specific outcomes of interest in the next function\n",
    "from ema_workbench import ScalarOutcome"
   ]
  },
  {
   "cell_type": "code",
   "execution_count": 9,
   "metadata": {
    "collapsed": true
   },
   "outputs": [],
   "source": [
    "# Writing a function to create actor specific problem formulations\n",
    "def problem_formulation_actor(problem_formulation_actor):\n",
    "   \n",
    "    # Load the model:\n",
    "    function = DikeNetwork()\n",
    "    # workbench model:\n",
    "    model = Model('dikesnet', function=function)\n",
    "    # Outcomes are all costs, thus they have to minimized:\n",
    "    direction = ScalarOutcome.MINIMIZE\n",
    "    \n",
    "    model.uncertainties = uncertainties\n",
    "    model.levers = levers\n",
    "\n",
    "    if problem_formulation_actor == 4: # RWS\n",
    "        model.outcomes.clear()\n",
    "        model.outcomes = [\n",
    "            ScalarOutcome('Expected Annual Damage',\n",
    "                            variable_name=['{}_Expected Annual Damage'.format(dike)\n",
    "                                                for dike in function.dikelist],\n",
    "                            function=sum_over, kind=direction),\n",
    "\n",
    "            ScalarOutcome('Total Investment Costs',\n",
    "                            variable_name=['{}_Dike Investment Costs'.format(dike)\n",
    "                                                for dike in function.dikelist] + ['RfR Total Costs'\n",
    "                                                                                ] + ['Expected Evacuation Costs'],\n",
    "                            function=sum_over, kind=direction),\n",
    "\n",
    "            ScalarOutcome('Expected Number of Deaths',\n",
    "                            variable_name=['{}_Expected Number of Deaths'.format(dike)\n",
    "                                                for dike in function.dikelist],\n",
    "                            function=sum_over, kind=direction)] \n",
    "    \n",
    "    elif problem_formulation_actor == 5: # GELDERLAND\n",
    "        model.outcomes.clear()\n",
    "        model.outcomes = [\n",
    "            ScalarOutcome('Expected Annual Damage A1-4',\n",
    "                            variable_name=['A.1_Expected Annual Damage' ,'A.2_Expected Annual Damage', 'A.3_Expected Annual Damage', 'A.4_Expected Annual Damage'], function=sum_over, kind=direction),\n",
    "\n",
    "            ScalarOutcome('Investment Costs A1-4',\n",
    "                            variable_name=['A.1_Dike Investment Costs', 'A.2_Dike Investment Costs', 'A.3_Dike Investment Costs', 'A.4_Dike Investment Costs'], function=sum_over, kind=direction),\n",
    "\n",
    "            ScalarOutcome('Expected Number of Deaths in A1-4',\n",
    "                            variable_name=['A.1_Expected Number of Deaths', 'A.2_Expected Number of Deaths', 'A.3_Expected Number of Deaths', 'A.4_Expected Number of Deaths'], function=sum_over, kind=direction)]\n",
    "    \n",
    "    elif problem_formulation_actor == 6: # OVERIJSSEL\n",
    "        model.outcomes.clear()\n",
    "        model.outcomes = [\n",
    "            ScalarOutcome('Expected Annual Damage A5', variable_name=['A.5_Expected Annual Damage'], kind=direction),\n",
    "\n",
    "            ScalarOutcome('Investment Costs A5', variable_name=['A.5_Dike Investment Costs'], kind=direction),\n",
    "\n",
    "            ScalarOutcome('Expected Number of Deaths in A5', variable_name=['A.5_Expected Number of Deaths'], kind=direction)]\n",
    "    \n",
    "    else:\n",
    "        raise TypeError('unknown identifier')\n",
    "    return model"
   ]
  },
  {
   "cell_type": "code",
   "execution_count": 10,
   "metadata": {
    "scrolled": false
   },
   "outputs": [
    {
     "name": "stderr",
     "output_type": "stream",
     "text": [
      "[MainProcess/INFO] model initialized\n"
     ]
    }
   ],
   "source": [
    "# Loading in the right problem formulation, in this case for Overijssel\n",
    "model = problem_formulation_actor(6)"
   ]
  },
  {
   "cell_type": "code",
   "execution_count": 11,
   "metadata": {
    "scrolled": true
   },
   "outputs": [
    {
     "name": "stdout",
     "output_type": "stream",
     "text": [
      "IntegerParameter('A.1_DikeIncrease', 0, 10)\n",
      "IntegerParameter('A.2_DikeIncrease', 0, 10)\n",
      "IntegerParameter('A.3_DikeIncrease', 0, 10)\n",
      "IntegerParameter('A.4_DikeIncrease', 0, 10)\n",
      "IntegerParameter('A.5_DikeIncrease', 0, 10)\n",
      "IntegerParameter('0_RfR', 0, 1)\n",
      "IntegerParameter('1_RfR', 0, 1)\n",
      "IntegerParameter('2_RfR', 0, 1)\n",
      "IntegerParameter('3_RfR', 0, 1)\n",
      "IntegerParameter('4_RfR', 0, 1)\n",
      "IntegerParameter('EWS_DaysToThreat', 0, 4)\n"
     ]
    }
   ],
   "source": [
    "# Check the levers\n",
    "for outcome in model.levers:\n",
    "    print(repr(outcome))"
   ]
  },
  {
   "cell_type": "code",
   "execution_count": 12,
   "metadata": {
    "scrolled": true
   },
   "outputs": [
    {
     "name": "stdout",
     "output_type": "stream",
     "text": [
      "RealParameter('A.1_Bmax', 30, 350)\n",
      "RealParameter('A.1_pfail', 0, 1)\n",
      "CategoricalParameter('A.1_Brate', [0, 1, 2])\n",
      "RealParameter('A.2_Bmax', 30, 350)\n",
      "RealParameter('A.2_pfail', 0, 1)\n",
      "CategoricalParameter('A.2_Brate', [0, 1, 2])\n",
      "RealParameter('A.3_Bmax', 30, 350)\n",
      "RealParameter('A.3_pfail', 0, 1)\n",
      "CategoricalParameter('A.3_Brate', [0, 1, 2])\n",
      "RealParameter('A.4_Bmax', 30, 350)\n",
      "RealParameter('A.4_pfail', 0, 1)\n",
      "CategoricalParameter('A.4_Brate', [0, 1, 2])\n",
      "RealParameter('A.5_Bmax', 30, 350)\n",
      "RealParameter('A.5_pfail', 0, 1)\n",
      "CategoricalParameter('A.5_Brate', [0, 1, 2])\n",
      "CategoricalParameter('discount rate', [0, 1, 2, 3])\n",
      "IntegerParameter('A.0_ID flood wave shape', 0, 132)\n"
     ]
    }
   ],
   "source": [
    "# Check the uncertainties\n",
    "for outcome in model.uncertainties:\n",
    "    print(repr(outcome))"
   ]
  },
  {
   "cell_type": "code",
   "execution_count": 13,
   "metadata": {},
   "outputs": [
    {
     "name": "stdout",
     "output_type": "stream",
     "text": [
      "ScalarOutcome('Expected Annual Damage A5', variable_name=['A.5_Expected Annual Damage'])\n",
      "ScalarOutcome('Investment Costs A5', variable_name=['A.5_Dike Investment Costs'])\n",
      "ScalarOutcome('Expected Number of Deaths in A5', variable_name=['A.5_Expected Number of Deaths'])\n"
     ]
    }
   ],
   "source": [
    "# Check is the right objectives are loaded in\n",
    "for outcome in model.outcomes:\n",
    "    print(repr(outcome))"
   ]
  },
  {
   "cell_type": "markdown",
   "metadata": {
    "collapsed": true
   },
   "source": [
    "# MORDM"
   ]
  },
  {
   "cell_type": "markdown",
   "metadata": {},
   "source": [
    "#### Testing robustness of solution for Overijssel in multiple scenarios"
   ]
  },
  {
   "cell_type": "code",
   "execution_count": 14,
   "metadata": {},
   "outputs": [
    {
     "data": {
      "text/html": [
       "<div>\n",
       "<style>\n",
       "    .dataframe thead tr:only-child th {\n",
       "        text-align: right;\n",
       "    }\n",
       "\n",
       "    .dataframe thead th {\n",
       "        text-align: left;\n",
       "    }\n",
       "\n",
       "    .dataframe tbody tr th {\n",
       "        vertical-align: top;\n",
       "    }\n",
       "</style>\n",
       "<table border=\"1\" class=\"dataframe\">\n",
       "  <thead>\n",
       "    <tr style=\"text-align: right;\">\n",
       "      <th></th>\n",
       "      <th>A.1_DikeIncrease</th>\n",
       "      <th>A.2_DikeIncrease</th>\n",
       "      <th>A.3_DikeIncrease</th>\n",
       "      <th>A.4_DikeIncrease</th>\n",
       "      <th>A.5_DikeIncrease</th>\n",
       "      <th>0_RfR</th>\n",
       "      <th>1_RfR</th>\n",
       "      <th>2_RfR</th>\n",
       "      <th>3_RfR</th>\n",
       "      <th>4_RfR</th>\n",
       "      <th>EWS_DaysToThreat</th>\n",
       "    </tr>\n",
       "  </thead>\n",
       "  <tbody>\n",
       "    <tr>\n",
       "      <th>0</th>\n",
       "      <td>0</td>\n",
       "      <td>0</td>\n",
       "      <td>0</td>\n",
       "      <td>0</td>\n",
       "      <td>4</td>\n",
       "      <td>0</td>\n",
       "      <td>1</td>\n",
       "      <td>1</td>\n",
       "      <td>1</td>\n",
       "      <td>1</td>\n",
       "      <td>3</td>\n",
       "    </tr>\n",
       "    <tr>\n",
       "      <th>1</th>\n",
       "      <td>0</td>\n",
       "      <td>0</td>\n",
       "      <td>0</td>\n",
       "      <td>0</td>\n",
       "      <td>4</td>\n",
       "      <td>1</td>\n",
       "      <td>0</td>\n",
       "      <td>1</td>\n",
       "      <td>1</td>\n",
       "      <td>1</td>\n",
       "      <td>3</td>\n",
       "    </tr>\n",
       "    <tr>\n",
       "      <th>2</th>\n",
       "      <td>0</td>\n",
       "      <td>0</td>\n",
       "      <td>0</td>\n",
       "      <td>0</td>\n",
       "      <td>0</td>\n",
       "      <td>0</td>\n",
       "      <td>1</td>\n",
       "      <td>1</td>\n",
       "      <td>1</td>\n",
       "      <td>1</td>\n",
       "      <td>3</td>\n",
       "    </tr>\n",
       "    <tr>\n",
       "      <th>3</th>\n",
       "      <td>0</td>\n",
       "      <td>0</td>\n",
       "      <td>0</td>\n",
       "      <td>0</td>\n",
       "      <td>0</td>\n",
       "      <td>1</td>\n",
       "      <td>0</td>\n",
       "      <td>1</td>\n",
       "      <td>1</td>\n",
       "      <td>1</td>\n",
       "      <td>3</td>\n",
       "    </tr>\n",
       "  </tbody>\n",
       "</table>\n",
       "</div>"
      ],
      "text/plain": [
       "   A.1_DikeIncrease  A.2_DikeIncrease  A.3_DikeIncrease  A.4_DikeIncrease  \\\n",
       "0                 0                 0                 0                 0   \n",
       "1                 0                 0                 0                 0   \n",
       "2                 0                 0                 0                 0   \n",
       "3                 0                 0                 0                 0   \n",
       "\n",
       "   A.5_DikeIncrease  0_RfR  1_RfR  2_RfR  3_RfR  4_RfR  EWS_DaysToThreat  \n",
       "0                 4      0      1      1      1      1                 3  \n",
       "1                 4      1      0      1      1      1                 3  \n",
       "2                 0      0      1      1      1      1                 3  \n",
       "3                 0      1      0      1      1      1                 3  "
      ]
     },
     "execution_count": 14,
     "metadata": {},
     "output_type": "execute_result"
    }
   ],
   "source": [
    "# Here, the solution-levers are defined in dictionaries, for further robustness tests\n",
    "from ema_workbench import Policy\n",
    "import pandas as pd\n",
    "solution_policy1 = {'A.1_DikeIncrease': 0, 'A.2_DikeIncrease': 0, 'A.3_DikeIncrease': 0, 'A.4_DikeIncrease': 0, 'A.5_DikeIncrease': 4, '0_RfR': 0, '1_RfR': 1, '2_RfR': 1, '3_RfR': 1, '4_RfR': 1, 'EWS_DaysToThreat': 3}\n",
    "solution_policy2 = {'A.1_DikeIncrease': 0, 'A.2_DikeIncrease': 0, 'A.3_DikeIncrease': 0, 'A.4_DikeIncrease': 0, 'A.5_DikeIncrease': 4, '0_RfR': 1, '1_RfR': 0, '2_RfR': 1, '3_RfR': 1, '4_RfR': 1, 'EWS_DaysToThreat': 3}\n",
    "solution_policy3 = {'A.1_DikeIncrease': 0, 'A.2_DikeIncrease': 0, 'A.3_DikeIncrease': 0, 'A.4_DikeIncrease': 0, 'A.5_DikeIncrease': 0, '0_RfR': 0, '1_RfR': 1, '2_RfR': 1, '3_RfR': 1, '4_RfR': 1, 'EWS_DaysToThreat': 3}\n",
    "solution_policy4 = {'A.1_DikeIncrease': 0, 'A.2_DikeIncrease': 0, 'A.3_DikeIncrease': 0, 'A.4_DikeIncrease': 0, 'A.5_DikeIncrease': 0, '0_RfR': 1, '1_RfR': 0, '2_RfR': 1, '3_RfR': 1, '4_RfR': 1, 'EWS_DaysToThreat': 3}\n",
    "\n",
    "# The solutions are stored in dataframes\n",
    "sol1 = pd.DataFrame.from_dict(solution_policy1, orient = 'index')\n",
    "sol2 = pd.DataFrame.from_dict(solution_policy2, orient = 'index')\n",
    "sol3 = pd.DataFrame.from_dict(solution_policy3, orient = 'index')\n",
    "sol4 = pd.DataFrame.from_dict(solution_policy4, orient = 'index')\n",
    "\n",
    "sol1 = sol1.T\n",
    "sol2 = sol2.T\n",
    "sol3 = sol3.T\n",
    "sol4 = sol4.T\n",
    "\n",
    "# And are added to one dataframe, index is reset\n",
    "sol = sol1.append([sol2, sol3, sol4],ignore_index=True)\n",
    "sol"
   ]
  },
  {
   "cell_type": "code",
   "execution_count": 15,
   "metadata": {},
   "outputs": [
    {
     "data": {
      "text/plain": [
       "list"
      ]
     },
     "execution_count": 15,
     "metadata": {},
     "output_type": "execute_result"
    }
   ],
   "source": [
    "# The preferred solution is defined in a list, to enable experimenting with it\n",
    "solution_policies = []\n",
    "\n",
    "for i, policy in sol.iterrows():\n",
    "    solution_policies.append(Policy(str(i), **policy.to_dict()))\n",
    "    \n",
    "type(solution_policies)"
   ]
  },
  {
   "cell_type": "code",
   "execution_count": 15,
   "metadata": {},
   "outputs": [
    {
     "name": "stderr",
     "output_type": "stream",
     "text": [
      "[MainProcess/INFO] pool started\n",
      "[MainProcess/INFO] performing 1000 scenarios * 4 policies * 1 model(s) = 4000 experiments\n",
      "[MainProcess/INFO] 400 cases completed\n",
      "[MainProcess/INFO] 800 cases completed\n",
      "[MainProcess/INFO] 1200 cases completed\n",
      "[MainProcess/INFO] 1600 cases completed\n",
      "[MainProcess/INFO] 2000 cases completed\n",
      "[MainProcess/INFO] 2400 cases completed\n",
      "[MainProcess/INFO] 2800 cases completed\n",
      "[MainProcess/INFO] 3200 cases completed\n",
      "[MainProcess/INFO] 3600 cases completed\n",
      "[MainProcess/INFO] 4000 cases completed\n",
      "[MainProcess/INFO] experiments finished\n",
      "[MainProcess/INFO] terminating pool\n"
     ]
    }
   ],
   "source": [
    "# Testing the robustness of the proposed solution for 1000 random scenarios\n",
    "n_scenarios = 1000\n",
    "with MultiprocessingEvaluator(model) as evaluator:\n",
    "    sol_results = evaluator.perform_experiments(n_scenarios,\n",
    "                                            solution_policies)"
   ]
  },
  {
   "cell_type": "code",
   "execution_count": 17,
   "metadata": {},
   "outputs": [
    {
     "name": "stderr",
     "output_type": "stream",
     "text": [
      "[MainProcess/INFO] results saved successfully to C:\\Users\\LocalAdmin\\Google Drive\\EPAself\\Model-Based Decision-Making\\epa1361_open-master\\final assignment\\MORDM_reevaluation_OVERIJSSEL.tar.gz\n"
     ]
    }
   ],
   "source": [
    "# Saving the results\n",
    "from ema_workbench import save_results\n",
    "\n",
    "save_results(sol_results, 'MORDM_reevaluation_OVERIJSSEL.tar.gz')"
   ]
  },
  {
   "cell_type": "code",
   "execution_count": 16,
   "metadata": {
    "scrolled": true
   },
   "outputs": [
    {
     "name": "stderr",
     "output_type": "stream",
     "text": [
      "[MainProcess/INFO] results loaded succesfully from C:\\Users\\Anne Boijmans\\Documents\\EPA\\EPA1361\\UPDATE3\\final assignment\\MORDM_reevaluation_OVERIJSSEL.tar.gz\n"
     ]
    }
   ],
   "source": [
    "# Loading in the results again\n",
    "from ema_workbench import load_results\n",
    "\n",
    "results_reevaluation_overijssel = load_results('MORDM_reevaluation_OVERIJSSEL.tar.gz')"
   ]
  },
  {
   "cell_type": "code",
   "execution_count": 17,
   "metadata": {
    "collapsed": true
   },
   "outputs": [],
   "source": [
    "# Defining a function to calculate the signal-to-noise ratio, a robustness metric\n",
    "def s_to_n(sol_results, direction):\n",
    "    mean = np.mean(sol_results)\n",
    "    std = np.std(sol_results)\n",
    "    \n",
    "    if direction==ScalarOutcome.MAXIMIZE:\n",
    "        return mean/std\n",
    "    else:\n",
    "        return mean*std"
   ]
  },
  {
   "cell_type": "code",
   "execution_count": 18,
   "metadata": {},
   "outputs": [
    {
     "data": {
      "text/html": [
       "<div>\n",
       "<style>\n",
       "    .dataframe thead tr:only-child th {\n",
       "        text-align: right;\n",
       "    }\n",
       "\n",
       "    .dataframe thead th {\n",
       "        text-align: left;\n",
       "    }\n",
       "\n",
       "    .dataframe tbody tr th {\n",
       "        vertical-align: top;\n",
       "    }\n",
       "</style>\n",
       "<table border=\"1\" class=\"dataframe\">\n",
       "  <thead>\n",
       "    <tr style=\"text-align: right;\">\n",
       "      <th></th>\n",
       "      <th>Expected Annual Damage A5</th>\n",
       "      <th>Expected Number of Deaths in A5</th>\n",
       "      <th>Investment Costs A5</th>\n",
       "    </tr>\n",
       "  </thead>\n",
       "  <tbody>\n",
       "    <tr>\n",
       "      <th>0</th>\n",
       "      <td>1.253985e+14</td>\n",
       "      <td>0.000002</td>\n",
       "      <td>0.108703</td>\n",
       "    </tr>\n",
       "    <tr>\n",
       "      <th>1</th>\n",
       "      <td>1.253985e+14</td>\n",
       "      <td>0.000002</td>\n",
       "      <td>0.108703</td>\n",
       "    </tr>\n",
       "    <tr>\n",
       "      <th>2</th>\n",
       "      <td>2.473502e+15</td>\n",
       "      <td>0.000036</td>\n",
       "      <td>0.000000</td>\n",
       "    </tr>\n",
       "    <tr>\n",
       "      <th>3</th>\n",
       "      <td>2.473502e+15</td>\n",
       "      <td>0.000036</td>\n",
       "      <td>0.000000</td>\n",
       "    </tr>\n",
       "  </tbody>\n",
       "</table>\n",
       "</div>"
      ],
      "text/plain": [
       "   Expected Annual Damage A5  Expected Number of Deaths in A5  \\\n",
       "0               1.253985e+14                         0.000002   \n",
       "1               1.253985e+14                         0.000002   \n",
       "2               2.473502e+15                         0.000036   \n",
       "3               2.473502e+15                         0.000036   \n",
       "\n",
       "   Investment Costs A5  \n",
       "0             0.108703  \n",
       "1             0.108703  \n",
       "2             0.000000  \n",
       "3             0.000000  "
      ]
     },
     "execution_count": 18,
     "metadata": {},
     "output_type": "execute_result"
    }
   ],
   "source": [
    "# In this piece of code, the signal-to-noise ratios are calculated, by iterating over the policies and outcomes\n",
    "# Finally, the results are stored in a dataframe\n",
    "experiments, outcomes = results_reevaluation_overijssel\n",
    "\n",
    "overall_scores = {}\n",
    "for policy in np.unique(experiments['policy']):\n",
    "    scores = {}\n",
    "    \n",
    "    logical = experiments['policy']==policy\n",
    "    \n",
    "    for outcome in model.outcomes:\n",
    "        value  = outcomes[outcome.name][logical]\n",
    "        sn_ratio = s_to_n(value, outcome.kind)\n",
    "        scores[outcome.name] = sn_ratio\n",
    "    overall_scores[policy] = scores\n",
    "scores = pd.DataFrame.from_dict(overall_scores).T\n",
    "scores"
   ]
  },
  {
   "cell_type": "code",
   "execution_count": 25,
   "metadata": {},
   "outputs": [
    {
     "data": {
      "image/png": "[encoded data removed]",
      "text/plain": [
       "<matplotlib.figure.Figure at 0x1f2714ce748>"
      ]
     },
     "metadata": {},
     "output_type": "display_data"
    }
   ],
   "source": [
    "# The signal-to-noise metrics are also plotted to show the trade-offs between the outcomes of interest\n",
    "from ema_workbench.analysis import parcoords\n",
    "\n",
    "sol_data = scores\n",
    "sol_limits = parcoords.get_limits(sol_data)\n",
    "sol_limits.loc[0, ['Expected Annual Damage A5', 'Investment Costs A5', 'Expected Number of Deaths in A5']] = 0\n",
    "\n",
    "paraxes = parcoords.ParallelAxes(sol_limits)\n",
    "paraxes.plot(sol_data)\n",
    "plt.title('Overijssel, signal to noise ratio solution 1')\n",
    "\n",
    "# Set figure size\n",
    "# Run this twice, to get a nice broad view\n",
    "fig_size = plt.rcParams[\"figure.figsize\"]\n",
    "\n",
    "fig_size[0] = 12\n",
    "fig_size[1] = 5\n",
    "plt.rcParams[\"figure.figsize\"] = fig_size\n",
    "\n",
    "\n",
    "plt.show()"
   ]
  },
  {
   "cell_type": "code",
   "execution_count": 20,
   "metadata": {},
   "outputs": [
    {
     "name": "stdout",
     "output_type": "stream",
     "text": [
      "{'Expected Annual Damage A5': policy\n",
      "0    2.827979e+08\n",
      "1    2.827979e+08\n",
      "2    0.000000e+00\n",
      "3    0.000000e+00\n",
      "dtype: float64}\n",
      "{'Expected Annual Damage A5': policy\n",
      "0    2.827979e+08\n",
      "1    2.827979e+08\n",
      "2    0.000000e+00\n",
      "3    0.000000e+00\n",
      "dtype: float64, 'Investment Costs A5': policy\n",
      "0    0.000000e+00\n",
      "1    0.000000e+00\n",
      "2    2.917962e+07\n",
      "3    2.917962e+07\n",
      "dtype: float64}\n",
      "{'Expected Annual Damage A5': policy\n",
      "0    2.827979e+08\n",
      "1    2.827979e+08\n",
      "2    0.000000e+00\n",
      "3    0.000000e+00\n",
      "dtype: float64, 'Investment Costs A5': policy\n",
      "0    0.000000e+00\n",
      "1    0.000000e+00\n",
      "2    2.917962e+07\n",
      "3    2.917962e+07\n",
      "dtype: float64, 'Expected Number of Deaths in A5': policy\n",
      "0    0.024897\n",
      "1    0.024897\n",
      "2    0.000000\n",
      "3    0.000000\n",
      "dtype: float64}\n"
     ]
    }
   ],
   "source": [
    "# With 'regret' the outcomes of interest for the various scenarios are compared\n",
    "# to the scenario that provides the most preferred outcomes\n",
    "experiments, outcomes = results_reevaluation_overijssel\n",
    "\n",
    "sol_regret = {}\n",
    "sol_max_regret = {}\n",
    "for outcome in model.outcomes:\n",
    "    policy_column = experiments['policy']\n",
    "    \n",
    "    # create a DataFrame with all the relevent information\n",
    "    # i.e., policy, scenario_id, and scores\n",
    "    data = pd.DataFrame({outcome.name: outcomes[outcome.name], \n",
    "                         \"policy\":experiments['policy'],\n",
    "                         \"scenario_id\":experiments['scenario_id']})\n",
    "    \n",
    "    # reorient the data by indexing with policy and scenario id\n",
    "    data = data.pivot(index='scenario_id', columns='policy')\n",
    "    \n",
    "    # flatten the resulting hierarchical index resulting from \n",
    "    # pivoting, (might be a nicer solution possible)\n",
    "    data.columns = data.columns.get_level_values(1)\n",
    "   \n",
    "    # we need to control the broadcasting. \n",
    "    # max returns a 1d vector across scenario id. By passing\n",
    "    # np.newaxis we ensure that the shape is the same as the data\n",
    "    # next we take the absolute value\n",
    "    \n",
    "    # basically we take the difference of the maximum across \n",
    "    # the row and the actual values in the row\n",
    "    \n",
    "    outcome_regret = (data.max(axis=1)[:, np.newaxis] - data).abs()\n",
    "   \n",
    "    sol_regret[outcome.name] = sol_regret\n",
    "    sol_max_regret[outcome.name] = outcome_regret.max()\n",
    "    print(sol_max_regret)"
   ]
  },
  {
   "cell_type": "code",
   "execution_count": 21,
   "metadata": {},
   "outputs": [
    {
     "data": {
      "image/png": "[encoded data removed]",
      "text/plain": [
       "<matplotlib.figure.Figure at 0x1f271c7e7f0>"
      ]
     },
     "metadata": {},
     "output_type": "display_data"
    }
   ],
   "source": [
    "# The regret for each outcome of interest is shown for each solution, scored from 0-1. This is plotted, using a heatmap\n",
    "sol_max_regret = pd.DataFrame(sol_max_regret)\n",
    "sns.heatmap(sol_max_regret/sol_max_regret.max(), cmap='viridis', annot=True)\n",
    "plt.title('Solution max regret for Overijssel')\n",
    "plt.show()\n"
   ]
  },
  {
   "cell_type": "code",
   "execution_count": 23,
   "metadata": {},
   "outputs": [
    {
     "data": {
      "image/png": "[encoded data removed]",
      "text/plain": [
       "<matplotlib.figure.Figure at 0x1f2715919b0>"
      ]
     },
     "metadata": {},
     "output_type": "display_data"
    }
   ],
   "source": [
    "# In order to identify which policy belongs to which regret-trade-off line, the policy ID's are added to the parcoords plot\n",
    "solution_data = sol_max_regret\n",
    "\n",
    "# makes it easier to identify the policy associated with each line\n",
    "# in the parcoords plot\n",
    "solution_data['policy id'] = solution_data.index.astype(\"float64\")\n",
    "\n",
    "solution_limits = parcoords.get_limits(solution_data)\n",
    "solution_limits.loc[0, ['Expected Annual Damage A5', 'Investment Costs A5', 'Expected Number of Deaths in A5']] = 0\n",
    "\n",
    "paraxes = parcoords.ParallelAxes(solution_limits)\n",
    "paraxes.plot(solution_data)\n",
    "\n",
    "\n",
    "plt.show()"
   ]
  }
 ],
 "metadata": {
  "kernelspec": {
   "display_name": "Python 3",
   "language": "python",
   "name": "python3"
  },
  "language_info": {
   "codemirror_mode": {
    "name": "ipython",
    "version": 3
   },
   "file_extension": ".py",
   "mimetype": "text/x-python",
   "name": "python",
   "nbconvert_exporter": "python",
   "pygments_lexer": "ipython3",
   "version": "3.6.1"
  }
 },
 "nbformat": 4,
 "nbformat_minor": 2
}
